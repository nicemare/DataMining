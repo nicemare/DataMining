{
  "nbformat": 4,
  "nbformat_minor": 0,
  "metadata": {
    "colab": {
      "name": "Untitled0.ipynb",
      "provenance": []
    },
    "kernelspec": {
      "name": "python3",
      "display_name": "Python 3"
    },
    "language_info": {
      "name": "python"
    }
  },
  "cells": [
    {
      "cell_type": "code",
      "metadata": {
        "id": "6bZ5Ypytgz81"
      },
      "source": [
        "import numpy as np \n",
        "import matplotlib.pyplot as plt \n",
        "import pandas as pd \n"
      ],
      "execution_count": 24,
      "outputs": []
    },
    {
      "cell_type": "code",
      "metadata": {
        "id": "e_eE3moyhCA9"
      },
      "source": [
        "dataset = pd.read_csv('3.csv')\n",
        "x = dataset.iloc[:, :-1].values\n",
        "y = dataset.iloc[:, -1].values"
      ],
      "execution_count": 25,
      "outputs": []
    },
    {
      "cell_type": "code",
      "metadata": {
        "colab": {
          "base_uri": "https://localhost:8080/"
        },
        "id": "ojrWU2hYhEWB",
        "outputId": "ee347d29-4a93-4b95-8904-53080bf4b662"
      },
      "source": [
        "print(x)"
      ],
      "execution_count": 26,
      "outputs": [
        {
          "output_type": "stream",
          "text": [
            "[['Marto' 44.0 7200000.0]\n",
            " ['Sinta' 27.0 4800000.0]\n",
            " ['Dito' 30.0 5400000.0]\n",
            " ['Sinta' 38.0 6100000.0]\n",
            " ['Dito' 40.0 nan]\n",
            " ['Marto' 35.0 5800000.0]\n",
            " ['Sinta' nan 5200000.0]\n",
            " ['Marto' 48.0 7900000.0]\n",
            " ['Dito' 50.0 8300000.0]\n",
            " ['Marto' 37.0 6700000.0]]\n"
          ],
          "name": "stdout"
        }
      ]
    },
    {
      "cell_type": "code",
      "metadata": {
        "colab": {
          "base_uri": "https://localhost:8080/"
        },
        "id": "tPTHlG85hF6G",
        "outputId": "522794b9-0fd2-40ae-8217-2ea93fb85594"
      },
      "source": [
        "print(y)"
      ],
      "execution_count": 27,
      "outputs": [
        {
          "output_type": "stream",
          "text": [
            "['Tidak' 'Ya' 'Tidak' 'Tidak' 'Ya' 'Ya' 'Tidak' 'Ya' 'Tidak' 'Ya']\n"
          ],
          "name": "stdout"
        }
      ]
    },
    {
      "cell_type": "code",
      "metadata": {
        "id": "KFIUegBphKCM"
      },
      "source": [
        "from sklearn.impute import SimpleImputer\n",
        "imputer = SimpleImputer(missing_values=np.nan, strategy='mean')\n",
        "imputer.fit(x[:, 1:3])\n",
        "x[:, 1:3] = imputer.transform(x[:, 1:3])"
      ],
      "execution_count": 28,
      "outputs": []
    },
    {
      "cell_type": "code",
      "metadata": {
        "colab": {
          "base_uri": "https://localhost:8080/"
        },
        "id": "EJVXf61ahKt-",
        "outputId": "a3eeeffc-ffe1-4cca-aef9-823c2e0cbf08"
      },
      "source": [
        "print(x)"
      ],
      "execution_count": 29,
      "outputs": [
        {
          "output_type": "stream",
          "text": [
            "[['Marto' 44.0 7200000.0]\n",
            " ['Sinta' 27.0 4800000.0]\n",
            " ['Dito' 30.0 5400000.0]\n",
            " ['Sinta' 38.0 6100000.0]\n",
            " ['Dito' 40.0 6377777.777777778]\n",
            " ['Marto' 35.0 5800000.0]\n",
            " ['Sinta' 38.77777777777778 5200000.0]\n",
            " ['Marto' 48.0 7900000.0]\n",
            " ['Dito' 50.0 8300000.0]\n",
            " ['Marto' 37.0 6700000.0]]\n"
          ],
          "name": "stdout"
        }
      ]
    },
    {
      "cell_type": "code",
      "metadata": {
        "id": "3bOgXYjZhLvR"
      },
      "source": [
        "from sklearn.compose import ColumnTransformer\n",
        "from sklearn.preprocessing import OneHotEncoder\n",
        "ct = ColumnTransformer(transformers=[('encoder',OneHotEncoder(), [0])], remainder='passthrough')\n",
        "x = np.array(ct.fit_transform(x))"
      ],
      "execution_count": 30,
      "outputs": []
    },
    {
      "cell_type": "code",
      "metadata": {
        "colab": {
          "base_uri": "https://localhost:8080/"
        },
        "id": "dkEPeINuhNGt",
        "outputId": "f5c7b4bf-8311-4320-b457-2c92e7cfb57f"
      },
      "source": [
        "print(x)"
      ],
      "execution_count": 31,
      "outputs": [
        {
          "output_type": "stream",
          "text": [
            "[[0.0 1.0 0.0 44.0 7200000.0]\n",
            " [0.0 0.0 1.0 27.0 4800000.0]\n",
            " [1.0 0.0 0.0 30.0 5400000.0]\n",
            " [0.0 0.0 1.0 38.0 6100000.0]\n",
            " [1.0 0.0 0.0 40.0 6377777.777777778]\n",
            " [0.0 1.0 0.0 35.0 5800000.0]\n",
            " [0.0 0.0 1.0 38.77777777777778 5200000.0]\n",
            " [0.0 1.0 0.0 48.0 7900000.0]\n",
            " [1.0 0.0 0.0 50.0 8300000.0]\n",
            " [0.0 1.0 0.0 37.0 6700000.0]]\n"
          ],
          "name": "stdout"
        }
      ]
    },
    {
      "cell_type": "code",
      "metadata": {
        "id": "yX6Oe74ThNAm"
      },
      "source": [
        "from sklearn.preprocessing import LabelEncoder\n",
        "le = LabelEncoder()\n",
        "y = le.fit_transform(y)"
      ],
      "execution_count": 32,
      "outputs": []
    },
    {
      "cell_type": "code",
      "metadata": {
        "colab": {
          "base_uri": "https://localhost:8080/"
        },
        "id": "tiKpSjb4hP-a",
        "outputId": "9423152e-b995-40b9-fe54-6302b783f77e"
      },
      "source": [
        "print(y)"
      ],
      "execution_count": 33,
      "outputs": [
        {
          "output_type": "stream",
          "text": [
            "[0 1 0 0 1 1 0 1 0 1]\n"
          ],
          "name": "stdout"
        }
      ]
    },
    {
      "cell_type": "code",
      "metadata": {
        "id": "NVIPchEjhYoz"
      },
      "source": [
        "from sklearn.model_selection import train_test_split\n",
        "x_train, x_test, y_train, y_test = train_test_split(x,y, test_size=0.2, random_state=1)"
      ],
      "execution_count": 34,
      "outputs": []
    },
    {
      "cell_type": "code",
      "metadata": {
        "colab": {
          "base_uri": "https://localhost:8080/"
        },
        "id": "-zSd0hONhay3",
        "outputId": "c42fbf08-d2dc-4793-e2e1-3b98dec4e12c"
      },
      "source": [
        "print(x_train)"
      ],
      "execution_count": 35,
      "outputs": [
        {
          "output_type": "stream",
          "text": [
            "[[0.0 0.0 1.0 38.77777777777778 5200000.0]\n",
            " [1.0 0.0 0.0 40.0 6377777.777777778]\n",
            " [0.0 1.0 0.0 44.0 7200000.0]\n",
            " [0.0 0.0 1.0 38.0 6100000.0]\n",
            " [0.0 0.0 1.0 27.0 4800000.0]\n",
            " [0.0 1.0 0.0 48.0 7900000.0]\n",
            " [1.0 0.0 0.0 50.0 8300000.0]\n",
            " [0.0 1.0 0.0 35.0 5800000.0]]\n"
          ],
          "name": "stdout"
        }
      ]
    },
    {
      "cell_type": "code",
      "metadata": {
        "colab": {
          "base_uri": "https://localhost:8080/"
        },
        "id": "xpE3bTsShb1H",
        "outputId": "2332941e-2bb5-43b0-9f83-59bf6e287aa4"
      },
      "source": [
        "print(x_test)"
      ],
      "execution_count": 36,
      "outputs": [
        {
          "output_type": "stream",
          "text": [
            "[[1.0 0.0 0.0 30.0 5400000.0]\n",
            " [0.0 1.0 0.0 37.0 6700000.0]]\n"
          ],
          "name": "stdout"
        }
      ]
    },
    {
      "cell_type": "code",
      "metadata": {
        "colab": {
          "base_uri": "https://localhost:8080/"
        },
        "id": "39OTHtiqhdBE",
        "outputId": "8146b307-e773-4c8c-fd5b-42f8a7fe299c"
      },
      "source": [
        "print(y_train)"
      ],
      "execution_count": 37,
      "outputs": [
        {
          "output_type": "stream",
          "text": [
            "[0 1 0 0 1 1 0 1]\n"
          ],
          "name": "stdout"
        }
      ]
    },
    {
      "cell_type": "code",
      "metadata": {
        "colab": {
          "base_uri": "https://localhost:8080/"
        },
        "id": "ppfELD0ehdYr",
        "outputId": "0321f027-9ee7-40c0-95c7-f6640d2a22d9"
      },
      "source": [
        "print(y_test)"
      ],
      "execution_count": 38,
      "outputs": [
        {
          "output_type": "stream",
          "text": [
            "[0 1]\n"
          ],
          "name": "stdout"
        }
      ]
    },
    {
      "cell_type": "code",
      "metadata": {
        "id": "mdnWlwQrhev5"
      },
      "source": [
        "from sklearn.preprocessing import StandardScaler\n",
        "sc = StandardScaler()\n",
        "x_train[:, 3:] = sc.fit_transform(x_train[:, 3:])\n",
        "x_test[:, 3:] = sc.transform(x_test[:, 3:])"
      ],
      "execution_count": 39,
      "outputs": []
    },
    {
      "cell_type": "code",
      "metadata": {
        "colab": {
          "base_uri": "https://localhost:8080/"
        },
        "id": "WdsxOst2hfri",
        "outputId": "d1512f8f-5d6c-4121-c012-752fe2b895df"
      },
      "source": [
        "print(x_train)"
      ],
      "execution_count": 40,
      "outputs": [
        {
          "output_type": "stream",
          "text": [
            "[[0.0 0.0 1.0 -0.19159184384578545 -1.0781259408412427]\n",
            " [1.0 0.0 0.0 -0.014117293757057777 -0.07013167641635393]\n",
            " [0.0 1.0 0.0 0.566708506533324 0.6335624327104549]\n",
            " [0.0 0.0 1.0 -0.30453019390224867 -0.3078661727429788]\n",
            " [0.0 0.0 1.0 -1.9018011447007988 -1.4204636155515822]\n",
            " [0.0 1.0 0.0 1.1475343068237058 1.232653363453549]\n",
            " [1.0 0.0 0.0 1.4379472069688968 1.5749910381638885]\n",
            " [0.0 1.0 0.0 -0.7401495441200351 -0.5646194287757333]]\n"
          ],
          "name": "stdout"
        }
      ]
    },
    {
      "cell_type": "code",
      "metadata": {
        "colab": {
          "base_uri": "https://localhost:8080/"
        },
        "id": "AQc3ByaAhhFd",
        "outputId": "b4b55869-3b9e-4c70-81a9-cc15c93293cf"
      },
      "source": [
        "print(x_test)"
      ],
      "execution_count": 41,
      "outputs": [
        {
          "output_type": "stream",
          "text": [
            "[[1.0 0.0 0.0 -1.4661817944830124 -0.906957103486073]\n",
            " [0.0 1.0 0.0 -0.44973664397484414 0.2056403393225305]]\n"
          ],
          "name": "stdout"
        }
      ]
    }
  ]
}